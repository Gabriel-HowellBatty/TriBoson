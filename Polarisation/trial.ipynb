{
 "cells": [
  {
   "cell_type": "code",
   "execution_count": 1,
   "metadata": {},
   "outputs": [],
   "source": [
    "import json\n",
    "\n",
    "# Path to the combined JSON file\n",
    "combined_file_path = r\"..\\..\\DataFiles\\data_14.0.json\"\n",
    "\n",
    "# Read the JSON file\n",
    "with open(combined_file_path, 'r') as file:\n",
    "    data = json.load(file) "
   ]
  },
  {
   "cell_type": "code",
   "execution_count": 2,
   "metadata": {},
   "outputs": [],
   "source": [
    "import json\n",
    "\n",
    "# Path to the combined JSON file\n",
    "combined_file_path1 = r\"..\\..\\DataFiles\\combined_data.json\"\n",
    "\n",
    "# Read the JSON file\n",
    "with open(combined_file_path1, 'r') as file:\n",
    "    data1 = json.load(file) "
   ]
  },
  {
   "cell_type": "code",
   "execution_count": 6,
   "metadata": {},
   "outputs": [
    {
     "name": "stdout",
     "output_type": "stream",
     "text": [
      "dict_keys([])\n"
     ]
    }
   ],
   "source": [
    "print(data1.keys())"
   ]
  },
  {
   "cell_type": "code",
   "execution_count": 4,
   "metadata": {},
   "outputs": [
    {
     "name": "stdout",
     "output_type": "stream",
     "text": [
      "Z Decay Angle: 119.59991885\n"
     ]
    }
   ],
   "source": [
    "z_decay_angle = data[\"Z\"][\"Energy\"][0]\n",
    "print(f\"Z Decay Angle: {z_decay_angle}\")"
   ]
  },
  {
   "cell_type": "code",
   "execution_count": 7,
   "metadata": {},
   "outputs": [
    {
     "ename": "KeyError",
     "evalue": "'data_14.0'",
     "output_type": "error",
     "traceback": [
      "\u001b[1;31m---------------------------------------------------------------------------\u001b[0m",
      "\u001b[1;31mKeyError\u001b[0m                                  Traceback (most recent call last)",
      "Cell \u001b[1;32mIn[7], line 1\u001b[0m\n\u001b[1;32m----> 1\u001b[0m z_decay_angle \u001b[38;5;241m=\u001b[39m \u001b[43mdata1\u001b[49m\u001b[43m[\u001b[49m\u001b[38;5;124;43m'\u001b[39;49m\u001b[38;5;124;43mdata_14.0\u001b[39;49m\u001b[38;5;124;43m'\u001b[39;49m\u001b[43m]\u001b[49m[\u001b[38;5;124m\"\u001b[39m\u001b[38;5;124mZ\u001b[39m\u001b[38;5;124m\"\u001b[39m][\u001b[38;5;124m\"\u001b[39m\u001b[38;5;124mEnergy\u001b[39m\u001b[38;5;124m\"\u001b[39m][\u001b[38;5;241m0\u001b[39m]\n\u001b[0;32m      2\u001b[0m \u001b[38;5;28mprint\u001b[39m(\u001b[38;5;124mf\u001b[39m\u001b[38;5;124m\"\u001b[39m\u001b[38;5;124mZ Decay Angle: \u001b[39m\u001b[38;5;132;01m{\u001b[39;00mz_decay_angle\u001b[38;5;132;01m}\u001b[39;00m\u001b[38;5;124m\"\u001b[39m)\n",
      "\u001b[1;31mKeyError\u001b[0m: 'data_14.0'"
     ]
    }
   ],
   "source": [
    "z_decay_angle = data1['data_14.0'][\"Z\"][\"Energy\"][0]\n",
    "print(f\"Z Decay Angle: {z_decay_angle}\")"
   ]
  },
  {
   "cell_type": "code",
   "execution_count": null,
   "metadata": {},
   "outputs": [],
   "source": [
    "import json\n",
    "\n",
    "# Path to individual JSON file\n",
    "combined_file_path = r\"..\\..\\DataFiles\\data_13.0.json\"\n",
    "\n",
    "# Path to combined JSON file\n",
    "combined_file_path1 = r\"..\\..\\DataFiles\\combined_data.json\"\n",
    "\n",
    "# Read individual JSON file\n",
    "with open(combined_file_path, 'r') as file:\n",
    "    data = json.load(file)\n",
    "    print(\"Structure of data_13.0.json:\")\n",
    "    print(json.dumps(data, indent=4))\n",
    "\n",
    "# Read combined JSON file\n",
    "with open(combined_file_path1, 'r') as file:\n",
    "    data1 = json.load(file)\n",
    "    print(\"Structure of combined_data.json:\")\n",
    "    print(json.dumps(data1, indent=4))\n"
   ]
  }
 ],
 "metadata": {
  "kernelspec": {
   "display_name": "base",
   "language": "python",
   "name": "python3"
  },
  "language_info": {
   "codemirror_mode": {
    "name": "ipython",
    "version": 3
   },
   "file_extension": ".py",
   "mimetype": "text/x-python",
   "name": "python",
   "nbconvert_exporter": "python",
   "pygments_lexer": "ipython3",
   "version": "3.12.6"
  }
 },
 "nbformat": 4,
 "nbformat_minor": 2
}
