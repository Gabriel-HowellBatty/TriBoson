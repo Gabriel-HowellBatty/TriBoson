{
 "cells": [
  {
   "cell_type": "code",
   "execution_count": null,
   "metadata": {},
   "outputs": [],
   "source": [
    "import json\n",
    "\n",
    "# Path to the combined JSON file\n",
    "combined_file_path = r\"..\\..\\DataFiles\\data_14.0.json\"\n",
    "\n",
    "# Read the JSON file\n",
    "with open(combined_file_path, 'r') as file:\n",
    "    data = json.load(file) "
   ]
  },
  {
   "cell_type": "code",
   "execution_count": 42,
   "metadata": {},
   "outputs": [],
   "source": [
    "import json\n",
    "\n",
    "# Path to the combined JSON file\n",
    "combined_file_path1 = r\"..\\..\\DataFiles\\combined_data.json\"\n",
    "\n",
    "# Read the JSON file\n",
    "with open(combined_file_path1, 'r') as file:\n",
    "    data1 = json.load(file) "
   ]
  },
  {
   "cell_type": "code",
   "execution_count": 43,
   "metadata": {},
   "outputs": [
    {
     "name": "stdout",
     "output_type": "stream",
     "text": [
      "dict_keys(['data_13.0', 'data_13.6', 'data_14.0'])\n"
     ]
    }
   ],
   "source": [
    "print(data1.keys())"
   ]
  },
  {
   "cell_type": "code",
   "execution_count": 48,
   "metadata": {},
   "outputs": [
    {
     "name": "stdout",
     "output_type": "stream",
     "text": [
      "Z Decay Angle: 119.59991885\n"
     ]
    }
   ],
   "source": [
    "z_decay_angle = data[\"Z\"][\"Energy\"][0]\n",
    "print(f\"Z Decay Angle: {z_decay_angle}\")"
   ]
  },
  {
   "cell_type": "code",
   "execution_count": 47,
   "metadata": {},
   "outputs": [
    {
     "name": "stdout",
     "output_type": "stream",
     "text": [
      "Z Decay Angle: 119.59991885\n"
     ]
    }
   ],
   "source": [
    "z_decay_angle = data1['data_14.0'][\"Z\"][\"Energy\"][0]\n",
    "print(f\"Z Decay Angle: {z_decay_angle}\")"
   ]
  },
  {
   "cell_type": "code",
   "execution_count": null,
   "metadata": {},
   "outputs": [],
   "source": [
    "import json\n",
    "\n",
    "# Path to individual JSON file\n",
    "combined_file_path = r\"..\\..\\DataFiles\\data_13.0.json\"\n",
    "\n",
    "# Path to combined JSON file\n",
    "combined_file_path1 = r\"..\\..\\DataFiles\\combined_data.json\"\n",
    "\n",
    "# Read individual JSON file\n",
    "with open(combined_file_path, 'r') as file:\n",
    "    data = json.load(file)\n",
    "    print(\"Structure of data_13.0.json:\")\n",
    "    print(json.dumps(data, indent=4))\n",
    "\n",
    "# Read combined JSON file\n",
    "with open(combined_file_path1, 'r') as file:\n",
    "    data1 = json.load(file)\n",
    "    print(\"Structure of combined_data.json:\")\n",
    "    print(json.dumps(data1, indent=4))\n"
   ]
  }
 ],
 "metadata": {
  "kernelspec": {
   "display_name": "Mphys",
   "language": "python",
   "name": "python3"
  },
  "language_info": {
   "codemirror_mode": {
    "name": "ipython",
    "version": 3
   },
   "file_extension": ".py",
   "mimetype": "text/x-python",
   "name": "python",
   "nbconvert_exporter": "python",
   "pygments_lexer": "ipython3",
   "version": "3.8.20"
  }
 },
 "nbformat": 4,
 "nbformat_minor": 2
}
