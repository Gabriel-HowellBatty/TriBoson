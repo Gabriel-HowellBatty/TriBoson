{
 "cells": [
  {
   "cell_type": "code",
   "execution_count": 9,
   "metadata": {},
   "outputs": [],
   "source": [
    "import matplotlib.pyplot as plt\n",
    "import itertools\n",
    "import json\n",
    "import numpy as np\n",
    "from pylhe import read_lhe_with_attributes, read_num_events\n",
    "import itertools\n",
    "import json\n",
    "import math\n",
    "import vector"
   ]
  },
  {
   "cell_type": "markdown",
   "metadata": {},
   "source": [
    "### Defining Functions"
   ]
  },
  {
   "cell_type": "code",
   "execution_count": 125,
   "metadata": {},
   "outputs": [],
   "source": [
    "def extract_particle_data(lhe_file, particle_ids):\n",
    "    \"\"\"Extract data for specific particle IDs from the LHE file.\"\"\"\n",
    "    \n",
    "    events = read_lhe_with_attributes(lhe_file)\n",
    "\n",
    "    num_events = read_num_events(lhe_file)\n",
    "\n",
    "    particle_data = []\n",
    "\n",
    "\n",
    "    if not isinstance(particle_ids, list):\n",
    "        particle_ids = [particle_ids] \n",
    "\n",
    "\n",
    "    for event_index, event in enumerate(itertools.islice(events, num_events)):\n",
    "        for particle in event.particles:\n",
    "\n",
    "            if particle.id in particle_ids:  \n",
    "                particle_data.append({\n",
    "                    'event': event_index,\n",
    "                    'id': particle.id,\n",
    "                    'px': particle.px,\n",
    "                    'py': particle.py,\n",
    "                    'pz': particle.pz,\n",
    "                    'E': particle.e,\n",
    "                    'status': particle.status\n",
    "                })\n",
    "\n",
    "    return particle_data\n",
    "def extract_kinematic_data(particle_data):\n",
    "    \"\"\"Extract transverse momentum (pT), pseudorapidity (eta), and azimuthal angle (phi) for each particle.\"\"\"\n",
    "    kinematic_data = []\n",
    "\n",
    "\n",
    "    for particle in particle_data:\n",
    "        px, py, pz = particle['px'], particle['py'], particle['pz']\n",
    "\n",
    "\n",
    "        pt = math.sqrt(px**2 + py**2)\n",
    "\n",
    "\n",
    "        phi = math.atan2(py, px)\n",
    "\n",
    "\n",
    "        theta = math.acos(pz / math.sqrt(px**2 + py**2 + pz**2))\n",
    "        eta = -math.log(math.tan(theta / 2))\n",
    "\n",
    "\n",
    "        kinematic_data.append({\n",
    "            'pt': pt,\n",
    "            'eta': eta,\n",
    "            'phi': phi,\n",
    "        })\n",
    "\n",
    "    return kinematic_data\n"
   ]
  },
  {
   "cell_type": "markdown",
   "metadata": {},
   "source": [
    "### Importing Data"
   ]
  },
  {
   "cell_type": "code",
   "execution_count": 178,
   "metadata": {},
   "outputs": [],
   "source": [
    "lhe_file = r\"C:\\Users\\gabri\\OneDrive\\Documents\\University\\Mphys\\TriBoson\\Week4\\unweighted_events.lhe\"\n",
    "\n",
    "z_data = extract_particle_data(lhe_file, particle_ids=[23])\n",
    "muon_data = extract_particle_data(lhe_file, particle_ids=[13])\n",
    "\n",
    "w_data = extract_particle_data(lhe_file, particle_ids=[24])\n",
    "electron_neutrino_data = extract_particle_data(lhe_file, particle_ids=[12])\n",
    "\n",
    "w_anti_data = extract_particle_data(lhe_file, particle_ids=[-24])\n",
    "electron_data = extract_particle_data(lhe_file, particle_ids=[11])"
   ]
  },
  {
   "cell_type": "markdown",
   "metadata": {},
   "source": [
    "### Creating Four vectors"
   ]
  },
  {
   "cell_type": "code",
   "execution_count": 195,
   "metadata": {},
   "outputs": [],
   "source": [
    "z_four_momentum = vector.array({\"E\": [data[\"E\"] for data in z_data], \"px\": [data[\"px\"] for data in z_data], \"py\": [data[\"py\"] for data in z_data], \"pz\": [data[\"pz\"] for data in z_data]})\n",
    "muon_four_momentum = vector.array({ \"E\": [data[\"E\"] for data in muon_data], \"px\": [data[\"px\"] for data in muon_data], \"py\": [data[\"py\"] for data in muon_data], \"pz\": [data[\"pz\"] for data in muon_data]})\n",
    "\n",
    "w_four_momentum = vector.array({\"E\": [data[\"E\"] for data in w_data], \"px\": [data[\"px\"] for data in w_data], \"py\": [data[\"py\"] for data in w_data], \"pz\": [data[\"pz\"] for data in w_data]})\n",
    "electron_neutrino_four_momentum = vector.array({ \"E\": [data[\"E\"] for data in electron_neutrino_data], \"px\": [data[\"px\"] for data in electron_neutrino_data], \"py\": [data[\"py\"] for data in electron_neutrino_data], \"pz\": [data[\"pz\"] for data in electron_neutrino_data]})\n",
    "\n",
    "\n",
    "w_anti_four_momentum = vector.array({ \"E\": [data[\"E\"] for data in w_anti_data], \"px\": [data[\"px\"] for data in w_anti_data], \"py\": [data[\"py\"] for data in w_anti_data], \"pz\": [data[\"pz\"] for data in w_anti_data]})\n",
    "electron_four_momentum = vector.array({ \"E\": [data[\"E\"] for data in electron_data], \"px\": [data[\"px\"] for data in electron_data], \"py\": [data[\"py\"] for data in electron_data], \"pz\": [data[\"pz\"] for data in electron_data]})\n",
    "\n",
    "com_four_momentum = z_four_momentum + w_four_momentum + w_anti_four_momentum\n"
   ]
  },
  {
   "cell_type": "code",
   "execution_count": 201,
   "metadata": {},
   "outputs": [
    {
     "name": "stdout",
     "output_type": "stream",
     "text": [
      "[(  8.44783423,   48.58474826, 4742.7163662 , 4743.832625  )\n",
      " ( 78.95828816,   31.4303258 ,  -48.98029532,  132.6607513 )\n",
      " (-31.13672292,   30.50487191, 1008.6614791 , 1013.6291329 ) ...\n",
      " (111.31871207,   61.09848378,  239.0148896 ,  285.57511213)\n",
      " (  5.96637952, -114.860603  , -192.55193233,  246.23531284)\n",
      " ( 31.18754334,   49.53231693, -117.51936135,  159.20733039)]\n"
     ]
    }
   ],
   "source": [
    "print(z_four_momentum)"
   ]
  },
  {
   "cell_type": "markdown",
   "metadata": {},
   "source": [
    "### Creating Three vectors"
   ]
  },
  {
   "cell_type": "code",
   "execution_count": 159,
   "metadata": {},
   "outputs": [],
   "source": [
    "z_three_momentum = vector.array({ \"px\": [data[\"px\"] for data in z_data], \"py\": [data[\"py\"] for data in z_data], \"pz\": [data[\"pz\"] for data in z_data]})\n",
    "muon_three_momentum = vector.array({ \"px\": [data[\"px\"] for data in muon_data], \"py\": [data[\"py\"] for data in muon_data], \"pz\": [data[\"pz\"] for data in muon_data]})\n",
    "\n",
    "w_three_momentum = vector.array({ \"px\": [data[\"px\"] for data in w_data], \"py\": [data[\"py\"] for data in w_data], \"pz\": [data[\"pz\"] for data in w_data]})\n",
    "electron_neutrino_three_momentum = vector.array({ \"px\": [data[\"px\"] for data in electron_neutrino_data], \"py\": [data[\"py\"] for data in electron_neutrino_data], \"pz\": [data[\"pz\"] for data in electron_neutrino_data]})\n",
    "\n",
    "w_anti_three_momentum = vector.array({ \"px\": [data[\"px\"] for data in w_anti_data], \"py\": [data[\"py\"] for data in w_anti_data], \"pz\": [data[\"pz\"] for data in w_anti_data]})\n",
    "electron_three_momentum = vector.array({ \"E\": [data[\"E\"] for data in electron_data], \"px\": [data[\"px\"] for data in electron_data], \"py\": [data[\"py\"] for data in electron_data], \"pz\": [data[\"pz\"] for data in electron_data]})\n",
    "\n",
    "com_three_momentum = z_three_momentum + w_three_momentum + w_anti_three_momentum"
   ]
  },
  {
   "cell_type": "code",
   "execution_count": 202,
   "metadata": {},
   "outputs": [
    {
     "data": {
      "text/plain": [
       "MomentumNumpy3D([( 4.00000033e-11,  0.00000000e+00, 5308.32826387),\n",
       "                 ( 5.00003239e-09,  0.00000000e+00, -594.52726859),\n",
       "                 ( 1.00001785e-09, -9.99989425e-10, 1414.43417122), ...,\n",
       "                 ( 4.00000744e-09,  1.00001785e-09, 1403.52311304),\n",
       "                 (-1.99996464e-10,  1.00000364e-09,  310.86868315),\n",
       "                 (-2.99997360e-10, -3.55271368e-15, -387.96171929)],\n",
       "                dtype=[('x', '<f8'), ('y', '<f8'), ('z', '<f8')])"
      ]
     },
     "execution_count": 202,
     "metadata": {},
     "output_type": "execute_result"
    }
   ],
   "source": [
    "(com_three_momentum)"
   ]
  },
  {
   "cell_type": "markdown",
   "metadata": {},
   "source": [
    "### Rotate axis along com"
   ]
  },
  {
   "cell_type": "code",
   "execution_count": 206,
   "metadata": {},
   "outputs": [
    {
     "name": "stdout",
     "output_type": "stream",
     "text": [
      "(10000,)\n",
      "[(  8.44783423,   48.58474826, 4742.7163662 )\n",
      " (-78.95828816,   31.4303258 ,   48.98029532)\n",
      " (-31.13672292,   30.50487191, 1008.6614791 ) ...\n",
      " (111.31871207,   61.09848378,  239.0148896 )\n",
      " (  5.96637952, -114.860603  , -192.55193233)\n",
      " (-31.1887165 ,   49.53157824,  117.51936135)]\n"
     ]
    }
   ],
   "source": [
    "z_axis = vector.obj(x=0, y=0, z=1)\n",
    "\n",
    "# Rotation Axis\n",
    "rotation_axes = com_three_momentum.cross(z_axis).unit() \n",
    "print(rotation_axes.shape)\n",
    "\n",
    "# Rotation Angle\n",
    "cos_theta = com_three_momentum.dot(z_axis) / (abs(com_three_momentum) * abs(z_axis))\n",
    "rotation_angles = np.arccos(cos_theta)\n",
    "\n",
    "# Rotate Centre of Mass Momentum onto the z axis\n",
    "com_momentum_along_z = com_three_momentum.rotate_axis(rotation_axes, rotation_angles)\n",
    "\n",
    "# Rotating Z and muon based on the rotation of com\n",
    "z_rotated = z_three_momentum.rotate_axis(rotation_axes, rotation_angles)\n",
    "z_rotated2 = z_four_momentum.rotate_axis(rotation_axes, rotation_angles)\n",
    "\n",
    "muon_rotated = muon_three_momentum.rotate_axis(rotation_axes, rotation_angles)\n",
    "\n",
    "w_rotated = w_three_momentum.rotate_axis(rotation_axes, rotation_angles)\n",
    "electron_rotated = electron_three_momentum.rotate_axis(rotation_axes, rotation_angles)\n",
    "\n",
    "w_anti_rotated = w_anti_three_momentum.rotate_axis(rotation_axes, rotation_angles)\n",
    "electron_neutrino_rotated = electron_neutrino_three_momentum.rotate_axis(rotation_axes, rotation_angles)"
   ]
  },
  {
   "cell_type": "markdown",
   "metadata": {},
   "source": [
    "### Rotated Four Momenta "
   ]
  },
  {
   "cell_type": "code",
   "execution_count": 161,
   "metadata": {},
   "outputs": [],
   "source": [
    "z_four_momentum_rotated = vector.array({\"E\": [data[\"E\"] for data in z_data], \"px\": z_rotated.px, \"py\": z_rotated.py, \"pz\": z_rotated.pz})\n",
    "muon_four_momentum_rotated = vector.array({\"E\": [data[\"E\"] for data in muon_data], \"px\": muon_rotated.px, \"py\": muon_rotated.py, \"pz\": muon_rotated.pz})\n",
    "\n",
    "w_four_momentum_rotated = vector.array({\"E\": [data[\"E\"] for data in w_data], \"px\": w_rotated.px, \"py\": w_rotated.py, \"pz\": w_rotated.pz})\n",
    "electron_neutrino_four_momentum_rotated = vector.array({\"E\": [data[\"E\"] for data in electron_neutrino_data], \"px\": electron_neutrino_rotated.px, \"py\": electron_neutrino_rotated.py, \"pz\": electron_neutrino_rotated.pz})\n",
    "\n",
    "w_anti_four_momentum_rotated = vector.array({\"E\": [data[\"E\"] for data in w_anti_data], \"px\": w_anti_rotated.px, \"py\": w_anti_rotated.py, \"pz\": w_anti_rotated.pz})\n",
    "electron_four_momentum_rotated = vector.array({\"E\": [data[\"E\"] for data in electron_data], \"px\": electron_rotated.px, \"py\": electron_rotated.py, \"pz\": electron_rotated.pz})\n",
    "\n",
    "com_four_momentum_rotated = vector.array({\"E\": com_four_momentum.E, \"px\": com_three_momentum.px, \"py\": com_three_momentum.py, \"pz\": com_three_momentum.pz})"
   ]
  },
  {
   "cell_type": "markdown",
   "metadata": {},
   "source": [
    "### Boosting into COM Frame"
   ]
  },
  {
   "cell_type": "code",
   "execution_count": 207,
   "metadata": {},
   "outputs": [
    {
     "name": "stdout",
     "output_type": "stream",
     "text": [
      "[(  8.44783423,   48.58474826,  401.39099289, 414.37202243)\n",
      " (-78.95828816,   31.4303258 ,  179.44282207, 217.71433577)\n",
      " (-31.13672292,   30.50487191,  255.38781595, 274.35192031) ...\n",
      " (111.31871207,   61.09848378,  -82.82331724, 176.87489674)\n",
      " (  5.96637952, -114.860603  , -305.14109965, 341.56503531)\n",
      " (-31.1887165 ,   49.53157824,  284.2396631 , 303.8558208 )]\n"
     ]
    }
   ],
   "source": [
    "\n",
    "boost_vector_into_com = com_four_momentum_rotated.to_beta3()\n",
    "\n",
    "z_four_momentum_rotated_boost_com = z_four_momentum_rotated.boost(-boost_vector_into_com)\n",
    "print(z_four_momentum_rotated_boost_com)\n",
    "muon_four_momentum_rotated_boost_com = muon_four_momentum_rotated.boost(-boost_vector_into_com)\n",
    "\n",
    "w_four_momentum_rotated_boost_com = w_four_momentum_rotated.boost(-boost_vector_into_com)\n",
    "electron_neutrino_four_momentum_rotated_boost_com = electron_neutrino_four_momentum_rotated.boost(-boost_vector_into_com)\n",
    "\n",
    "w_anti_four_momentum_rotated_boost_com = w_anti_four_momentum_rotated.boost(-boost_vector_into_com)\n",
    "electron_four_momentum_rotated_boost_com = electron_four_momentum_rotated.boost(-boost_vector_into_com)"
   ]
  },
  {
   "cell_type": "code",
   "execution_count": 163,
   "metadata": {},
   "outputs": [],
   "source": [
    "z_three_momentum_rotated_boost_com = vector.array({\"px\": z_four_momentum_rotated_boost_com.px, \"py\": z_four_momentum_rotated_boost_com.py, \"pz\": z_four_momentum_rotated_boost_com.pz})\n",
    "muon_three_momentum_rotated_boost_com = vector.array({\"px\": muon_four_momentum_rotated_boost_com.px, \"py\": muon_four_momentum_rotated_boost_com.py, \"pz\": muon_four_momentum_rotated_boost_com.pz})\n",
    "\n",
    "w_three_momentum_rotated_boost_com = vector.array({\"px\": w_four_momentum_rotated_boost_com.px, \"py\": w_four_momentum_rotated_boost_com.py, \"pz\": w_four_momentum_rotated_boost_com.pz})\n",
    "electron_neutrino_three_momentum_rotated_boost_com = vector.array({\"px\": electron_neutrino_four_momentum_rotated_boost_com.px, \"py\": electron_neutrino_four_momentum_rotated_boost_com.py, \"pz\": electron_neutrino_four_momentum_rotated_boost_com.pz})\n",
    "\n",
    "w_anti_three_momentum_rotated_boost_com = vector.array({\"px\": w_anti_four_momentum_rotated_boost_com.px, \"py\": w_anti_four_momentum_rotated_boost_com.py, \"pz\": w_anti_four_momentum_rotated_boost_com.pz})\n",
    "electron_three_momentum_rotated_boost_com = vector.array({\"px\": electron_four_momentum_rotated_boost_com.px, \"py\": electron_four_momentum_rotated_boost_com.py, \"pz\": electron_four_momentum_rotated_boost_com.pz})"
   ]
  },
  {
   "cell_type": "markdown",
   "metadata": {},
   "source": [
    "### Rotation for Z Boson"
   ]
  },
  {
   "cell_type": "code",
   "execution_count": 109,
   "metadata": {},
   "outputs": [
    {
     "name": "stdout",
     "output_type": "stream",
     "text": [
      "[(  1.60675958,  43.27015187, 261.04930215)\n",
      " ( 12.54419888,  27.1156435 ,  18.365704  )\n",
      " ( -7.81938503, -44.19197524, 115.14558323) ...\n",
      " (  0.16766999, -17.56286344, 157.40270792)\n",
      " ( 29.71844104,  34.44011494, 239.13594348)\n",
      " (-28.3861539 , -11.56426062,  33.80793133)]\n"
     ]
    }
   ],
   "source": [
    "# Step 2: Define the target direction (z-axis)\n",
    "target_vector = vector.obj(x=0, y=0, z=1)\n",
    "\n",
    "# Step 3: Calculate the rotation axis (cross product) and angle using dot product\n",
    "# Calculate the rotation axes for all vectors\n",
    "rotation_axes = z_three_momentum_rotated_boost_com.cross(target_vector).unit()\n",
    "\n",
    "# Calculate the cosine of the angles using the dot product\n",
    "cos_theta = z_three_momentum_rotated_boost_com.dot(target_vector) / (abs(z_three_momentum_rotated_boost_com) * abs(target_vector))\n",
    "\n",
    "# Step 4: Calculate the rotation angles using arccos\n",
    "rotation_angles = np.arccos(cos_theta)\n",
    "\n",
    "# Step 5: Rotate the initial vectors using rotate_axis\n",
    "z_three_momentum_rotated_boost_com_rotated = z_three_momentum_rotated_boost_com.rotate_axis(rotation_axes, rotation_angles)\n",
    "muon_three_momentum_rotated_boost_com_rotated = muon_three_momentum_rotated_boost_com.rotate_axis(rotation_axes, rotation_angles)\n",
    "\n",
    "\n",
    "print(muon_three_momentum_rotated_boost_com_rotated)"
   ]
  },
  {
   "cell_type": "markdown",
   "metadata": {},
   "source": [
    "### Rotation for W Boson"
   ]
  },
  {
   "cell_type": "code",
   "execution_count": 164,
   "metadata": {},
   "outputs": [],
   "source": [
    "# Step 2: Define the target direction (z-axis)\n",
    "target_vector = vector.obj(x=0, y=0, z=1)\n",
    "\n",
    "# Step 3: Calculate the rotation axis (cross product) and angle using dot product\n",
    "# Calculate the rotation axes for all vectors\n",
    "rotation_axes = w_three_momentum_rotated_boost_com.cross(target_vector).unit()\n",
    "\n",
    "# Calculate the cosine of the angles using the dot product\n",
    "cos_theta = w_three_momentum_rotated_boost_com.dot(target_vector) / (abs(w_three_momentum_rotated_boost_com) * abs(target_vector))\n",
    "\n",
    "# Step 4: Calculate the rotation angles using arccos\n",
    "rotation_angles = np.arccos(cos_theta)\n",
    "\n",
    "# Step 5: Rotate the initial vectors using rotate_axis\n",
    "\n",
    "w_three_momentum_rotated_boost_com_rotated = w_three_momentum_rotated_boost_com.rotate_axis(rotation_axes, rotation_angles)\n",
    "electron_neutrino_three_momentum_rotated_boost_com_rotated = electron_neutrino_three_momentum_rotated_boost_com.rotate_axis(rotation_axes, rotation_angles)"
   ]
  },
  {
   "cell_type": "markdown",
   "metadata": {},
   "source": [
    "### Rotation for W- Boson"
   ]
  },
  {
   "cell_type": "code",
   "execution_count": 167,
   "metadata": {},
   "outputs": [],
   "source": [
    "# Step 2: Define the target direction (z-axis)\n",
    "target_vector = vector.obj(x=0, y=0, z=1)\n",
    "\n",
    "# Step 3: Calculate the rotation axis (cross product) and angle using dot product\n",
    "# Calculate the rotation axes for all vectors\n",
    "rotation_axes = w_anti_three_momentum_rotated_boost_com.cross(target_vector).unit()\n",
    "\n",
    "# Calculate the cosine of the angles using the dot product\n",
    "cos_theta = w_anti_three_momentum_rotated_boost_com.dot(target_vector) / (abs(w_anti_three_momentum_rotated_boost_com) * abs(target_vector))\n",
    "\n",
    "# Step 4: Calculate the rotation angles using arccos\n",
    "rotation_angles = np.arccos(cos_theta)\n",
    "\n",
    "# Step 5: Rotate the initial vectors using rotate_axis\n",
    "w_anti_three_momentum_rotated_boost_com_rotated = w_anti_three_momentum_rotated_boost_com.rotate_axis(rotation_axes, rotation_angles)\n",
    "electron_three_momentum_rotated_boost_com_rotated = electron_three_momentum_rotated_boost_com.rotate_axis(rotation_axes, rotation_angles)"
   ]
  },
  {
   "cell_type": "code",
   "execution_count": 168,
   "metadata": {},
   "outputs": [],
   "source": [
    "z_four_momentum_rotated_boost_com_rotated = vector.array({\"E\": [data[\"E\"] for data in z_data], \"px\": z_three_momentum_rotated_boost_com_rotated.px, \"py\": z_three_momentum_rotated_boost_com_rotated.py, \"pz\": z_three_momentum_rotated_boost_com_rotated.pz})\n",
    "muon_four_momentum_rotated_boost_com_rotated = vector.array({\"E\": [data[\"E\"] for data in muon_data], \"px\": muon_three_momentum_rotated_boost_com_rotated.px, \"py\": muon_three_momentum_rotated_boost_com_rotated.py, \"pz\": muon_three_momentum_rotated_boost_com_rotated.pz})\n",
    "\n",
    "w_four_momentum_rotated_boost_com_rotated = vector.array({\"E\": [data[\"E\"] for data in w_data], \"px\": w_three_momentum_rotated_boost_com_rotated.px, \"py\": w_three_momentum_rotated_boost_com_rotated.py, \"pz\": w_three_momentum_rotated_boost_com_rotated.pz})\n",
    "electron_neutrino_four_momentum_rotated_boost_com_rotated = vector.array({\"E\": [data[\"E\"] for data in electron_neutrino_data], \"px\": electron_neutrino_three_momentum_rotated_boost_com_rotated.px, \"py\": electron_neutrino_three_momentum_rotated_boost_com_rotated.py, \"pz\": electron_neutrino_three_momentum_rotated_boost_com_rotated.pz})\n",
    "\n",
    "w_anti_four_momentum_rotated_boost_com_rotated = vector.array({\"E\": [data[\"E\"] for data in w_anti_data], \"px\": w_anti_three_momentum_rotated_boost_com_rotated.px, \"py\": w_anti_three_momentum_rotated_boost_com_rotated.py, \"pz\": w_anti_three_momentum_rotated_boost_com_rotated.pz})\n",
    "electron_four_momentum_rotated_boost_com_rotated = vector.array({\"E\": [data[\"E\"] for data in electron_data], \"px\": electron_three_momentum_rotated_boost_com_rotated.px, \"py\": electron_three_momentum_rotated_boost_com_rotated.py, \"pz\": electron_three_momentum_rotated_boost_com_rotated.pz})\n",
    "\n",
    "com_four_momentum_rotated = vector.array({\"E\": com_four_momentum.E, \"px\": com_three_momentum.px, \"py\": com_three_momentum.py, \"pz\": com_three_momentum.pz})"
   ]
  },
  {
   "cell_type": "code",
   "execution_count": 170,
   "metadata": {},
   "outputs": [],
   "source": [
    "boost_vector_into_z_rest = z_four_momentum_rotated_boost_com_rotated.to_beta3()\n",
    "\n",
    "z_four_momentum_rotated_boost_com_rotated_boost_rest = z_four_momentum_rotated_boost_com_rotated.boost(-boost_vector_into_z_rest)\n",
    "muon_four_momentum_rotated_boost_com_boost_rest = muon_four_momentum_rotated_boost_com_rotated.boost(-boost_vector_into_z_rest)\n",
    "\n",
    "boost_vector_into_w_rest = w_four_momentum_rotated_boost_com_rotated.to_beta3()\n",
    "\n",
    "w_four_momentum_rotated_boost_com_rotated_boost_rest = w_four_momentum_rotated_boost_com_rotated.boost(-boost_vector_into_w_rest)\n",
    "electron_neutrino_four_momentum_rotated_boost_com_boost_rest = electron_neutrino_four_momentum_rotated_boost_com_rotated.boost(-boost_vector_into_w_rest)\n",
    "\n",
    "boost_vector_into_w_anti_rest = w_anti_four_momentum_rotated_boost_com_rotated.to_beta3()\n",
    "\n",
    "w_anti_four_momentum_rotated_boost_com_rotated_boost_rest = w_anti_four_momentum_rotated_boost_com_rotated.boost(-boost_vector_into_w_anti_rest)\n",
    "electron_four_momentum_rotated_boost_com_boost_rest = electron_four_momentum_rotated_boost_com_rotated.boost(-boost_vector_into_w_anti_rest)"
   ]
  },
  {
   "cell_type": "code",
   "execution_count": 210,
   "metadata": {},
   "outputs": [
    {
     "name": "stdout",
     "output_type": "stream",
     "text": [
      "[(-6.31088724e-30, -5.04870979e-29, -1.13686838e-13, 4726.56338169)\n",
      " (            nan,             nan,             nan,           nan)\n",
      " (-2.52435490e-29,  1.26217745e-29, -5.68434189e-14,  979.95971336) ...\n",
      " (-3.15544362e-30, -3.15544362e-30,  0.00000000e+00,  242.00942629)\n",
      " (            nan,             nan,             nan,           nan)\n",
      " (            nan,             nan,             nan,           nan)]\n"
     ]
    }
   ],
   "source": [
    "print(z_four_momentum_rotated_boost_com_rotated_boost_rest)"
   ]
  },
  {
   "cell_type": "code",
   "execution_count": 208,
   "metadata": {},
   "outputs": [
    {
     "name": "stderr",
     "output_type": "stream",
     "text": [
      "C:\\Users\\gabri\\AppData\\Local\\Temp\\ipykernel_1708\\4048211444.py:15: RuntimeWarning: invalid value encountered in arcsin\n",
      "  theta = np.arcsin(sin_theta)\n"
     ]
    },
    {
     "data": {
      "image/png": "[encoded data removed]",
      "text/plain": [
       "<Figure size 600x600 with 1 Axes>"
      ]
     },
     "metadata": {},
     "output_type": "display_data"
    }
   ],
   "source": [
    "px = muon_four_momentum_rotated_boost_com_boost_rest.px\n",
    "py = muon_four_momentum_rotated_boost_com_boost_rest.py\n",
    "pz = muon_four_momentum_rotated_boost_com_boost_rest.pz\n",
    "\n",
    "# Calculate the magnitude of the momentum vector\n",
    "transverse_momentum_magnitude = np.sqrt(px**2 + py**2)\n",
    "\n",
    "# Step 3: Calculate the cosine of the angle between the 3-momentum and the z-axis\n",
    "sin_theta = pz / transverse_momentum_magnitude\n",
    "\n",
    "# Ensure cos_theta is within the range [-1, 1] to avoid numerical errors in arccos\n",
    "#cos_theta = np.clip(cos_theta, -1, 1)\n",
    "\n",
    "# Compute the angle in radians\n",
    "theta = np.arcsin(sin_theta)\n",
    "\n",
    "# Convert to degrees (optional)\n",
    "theta_degrees = np.degrees(theta)\n",
    "\n",
    "fig, ax = plt.subplots(1, 1, figsize=(6, 6))\n",
    "\n",
    "ax.hist(theta_degrees, bins=100, alpha=0.7, color='blue')\n",
    "ax.set_xlabel('Angle (Degrees)')\n",
    "ax.set_ylabel('Number of Muons')\n",
    "ax.set_title(' Polar Angle of nuon from Z Boson Decay')\n",
    "ax.grid(axis='y', alpha=0.75)\n",
    "\n",
    "ax.text(0.95, 0.95, f'Number of Muons: {len(theta_degrees)}', \n",
    "        ha='right', va='top', fontsize=12, transform=ax.transAxes)\n",
    "\n",
    "plt.tight_layout(rect=[0, 0, 0.96, 0.96])  # Adjust layout to make room for the overall title\n",
    "save_path = r\"C:\\Users\\gabri\\OneDrive\\Documents\\University\\Mphys\\TriBoson\\Week4\\Plots\\Z_Polarity_Analysis.png\"\n",
    "plt.savefig(save_path, dpi=300) \n",
    "plt.show()\n",
    "\n",
    "\n"
   ]
  },
  {
   "cell_type": "code",
   "execution_count": 193,
   "metadata": {},
   "outputs": [
    {
     "name": "stderr",
     "output_type": "stream",
     "text": [
      "C:\\Users\\gabri\\AppData\\Local\\Temp\\ipykernel_1708\\1798435788.py:15: RuntimeWarning: invalid value encountered in arcsin\n",
      "  theta = np.arcsin(sin_theta)\n"
     ]
    },
    {
     "data": {
      "image/png": "[encoded data removed]",
      "text/plain": [
       "<Figure size 600x600 with 1 Axes>"
      ]
     },
     "metadata": {},
     "output_type": "display_data"
    }
   ],
   "source": [
    "px = electron_neutrino_four_momentum_rotated_boost_com_boost_rest.px\n",
    "py = electron_neutrino_four_momentum_rotated_boost_com_boost_rest.py\n",
    "pz = electron_neutrino_four_momentum_rotated_boost_com_boost_rest.pz\n",
    "\n",
    "# Calculate the magnitude of the momentum vector\n",
    "transverse_momentum_magnitude = np.sqrt(px**2 + py**2)\n",
    "\n",
    "# Step 3: Calculate the cosine of the angle between the 3-momentum and the z-axis\n",
    "sin_theta = pz / transverse_momentum_magnitude\n",
    "\n",
    "# Ensure cos_theta is within the range [-1, 1] to avoid numerical errors in arccos\n",
    "#cos_theta = np.clip(cos_theta, -1, 1)\n",
    "\n",
    "# Compute the angle in radians\n",
    "theta = np.arcsin(sin_theta)\n",
    "\n",
    "# Convert to degrees (optional)\n",
    "theta_degrees = np.degrees(theta)\n",
    "\n",
    "fig, ax = plt.subplots(1, 1, figsize=(6, 6))\n",
    "\n",
    "ax.hist(theta_degrees, bins=100, alpha=0.7, color='blue')\n",
    "ax.set_xlabel('Angle (Degrees)')\n",
    "ax.set_ylabel('Number of Electron Neutrinos')\n",
    "ax.set_title(' Polar Angle of electron neutrino from W+ Boson Decay')\n",
    "ax.grid(axis='y', alpha=0.75)\n",
    "\n",
    "ax.text(0.95, 0.95, f'Number of Electron Neutrinos: {len(theta_degrees)}', \n",
    "        ha='right', va='top', fontsize=12, transform=ax.transAxes)\n",
    "\n",
    "plt.tight_layout(rect=[0, 0, 0.96, 0.96])  # Adjust layout to make room for the overall title\n",
    "save_path = r\"C:\\Users\\gabri\\OneDrive\\Documents\\University\\Mphys\\TriBoson\\Week4\\Plots\\W_Polarity_Analysis.png\"\n",
    "plt.savefig(save_path, dpi=300) \n",
    "plt.show()\n",
    "\n",
    "\n"
   ]
  },
  {
   "cell_type": "code",
   "execution_count": 192,
   "metadata": {},
   "outputs": [
    {
     "name": "stderr",
     "output_type": "stream",
     "text": [
      "C:\\Users\\gabri\\AppData\\Local\\Temp\\ipykernel_1708\\177811525.py:15: RuntimeWarning: invalid value encountered in arcsin\n",
      "  theta = np.arcsin(sin_theta)\n"
     ]
    },
    {
     "data": {
      "image/png": "[encoded data removed]",
      "text/plain": [
       "<Figure size 600x600 with 1 Axes>"
      ]
     },
     "metadata": {},
     "output_type": "display_data"
    }
   ],
   "source": [
    "px = electron_four_momentum_rotated_boost_com_boost_rest.px\n",
    "py = electron_four_momentum_rotated_boost_com_boost_rest.py\n",
    "pz = electron_four_momentum_rotated_boost_com_boost_rest.pz\n",
    "\n",
    "# Calculate the magnitude of the momentum vector\n",
    "transverse_momentum_magnitude = np.sqrt(px**2 + py**2)\n",
    "\n",
    "# Step 3: Calculate the cosine of the angle between the 3-momentum and the z-axis\n",
    "sin_theta = pz / transverse_momentum_magnitude\n",
    "\n",
    "# Ensure cos_theta is within the range [-1, 1] to avoid numerical errors in arccos\n",
    "#cos_theta = np.clip(cos_theta, -1, 1)\n",
    "\n",
    "# Compute the angle in radians\n",
    "theta = np.arcsin(sin_theta)\n",
    "\n",
    "# Convert to degrees (optional)\n",
    "theta_degrees = np.degrees(theta)\n",
    "\n",
    "fig, ax = plt.subplots(1, 1, figsize=(6, 6))\n",
    "\n",
    "ax.hist(theta_degrees, bins=100, alpha=0.7, color='blue')\n",
    "ax.set_xlabel('Angle (Degrees)')\n",
    "ax.set_ylabel('Number of Electrons')\n",
    "ax.set_title(' Polar Angle of electron from W- Boson Decay')\n",
    "ax.grid(axis='y', alpha=0.75)\n",
    "\n",
    "ax.text(0.95, 0.95, f'Number of Electrons: {len(theta_degrees)}', \n",
    "        ha='right', va='top', fontsize=12, transform=ax.transAxes)\n",
    "\n",
    "plt.tight_layout(rect=[0, 0, 0.96, 0.96])  # Adjust layout to make room for the overall title\n",
    "save_path = r\"C:\\Users\\gabri\\OneDrive\\Documents\\University\\Mphys\\TriBoson\\Week4\\Plots\\W_anti_Polarity_Analysis.png\"\n",
    "plt.savefig(save_path, dpi=300) \n",
    "plt.show()\n",
    "\n"
   ]
  },
  {
   "cell_type": "code",
   "execution_count": null,
   "metadata": {},
   "outputs": [],
   "source": []
  }
 ],
 "metadata": {
  "kernelspec": {
   "display_name": "Mphys",
   "language": "python",
   "name": "python3"
  },
  "language_info": {
   "codemirror_mode": {
    "name": "ipython",
    "version": 3
   },
   "file_extension": ".py",
   "mimetype": "text/x-python",
   "name": "python",
   "nbconvert_exporter": "python",
   "pygments_lexer": "ipython3",
   "version": "3.8.20"
  }
 },
 "nbformat": 4,
 "nbformat_minor": 2
}
