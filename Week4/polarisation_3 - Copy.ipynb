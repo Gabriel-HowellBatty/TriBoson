{
 "cells": [
  {
   "cell_type": "markdown",
   "metadata": {},
   "source": [
    "Polarisation"
   ]
  },
  {
   "cell_type": "markdown",
   "metadata": {},
   "source": [
    "Read in data"
   ]
  },
  {
   "cell_type": "code",
   "execution_count": 6,
   "metadata": {},
   "outputs": [
    {
     "name": "stdout",
     "output_type": "stream",
     "text": [
      "Number of events: 10000\n",
      "Number of events: 10000\n",
      "Number of events: 10000\n",
      "Number of events: 10000\n",
      "Number of events: 10000\n"
     ]
    }
   ],
   "source": [
    "import matplotlib.pyplot as plt\n",
    "import itertools\n",
    "import json\n",
    "import numpy as np\n",
    "from pylhe import read_lhe_with_attributes, read_num_events\n",
    "### Defining Functions\n",
    "import itertools\n",
    "import json\n",
    "\n",
    "\n",
    "def extract_particle_data(lhe_file, particle_ids):\n",
    "    \"\"\"Extract data for specific particle IDs from the LHE file.\"\"\"\n",
    "    events = read_lhe_with_attributes(lhe_file)\n",
    "    num_events = read_num_events(lhe_file)\n",
    "    print(f\"Number of events: {num_events}\")\n",
    "\n",
    "    particle_data = []\n",
    "\n",
    "    # Ensure particle_ids is a list\n",
    "    if not isinstance(particle_ids, list):\n",
    "        particle_ids = [particle_ids]\n",
    "\n",
    "    for event_index, event in enumerate(itertools.islice(events, num_events)):\n",
    "        for particle in event.particles:\n",
    "            # Corrected condition\n",
    "            if particle.id in particle_ids:  \n",
    "                particle_data.append({\n",
    "                    'event': event_index,\n",
    "                    'id': particle.id,\n",
    "                    'px': particle.px,\n",
    "                    'py': particle.py,\n",
    "                    'pz': particle.pz,\n",
    "                    'E': particle.e,\n",
    "                    'status': particle.status\n",
    "                })\n",
    "\n",
    "    return particle_data\n",
    "\n",
    "\n",
    "import math\n",
    "\n",
    "def extract_kinematic_data(particle_data):\n",
    "    \"\"\"Extract transverse momentum (pT), pseudorapidity (eta), and azimuthal angle (phi) for each particle.\"\"\"\n",
    "    kinematic_data = []\n",
    "\n",
    "\n",
    "    for particle in particle_data:\n",
    "        px, py, pz = particle['px'], particle['py'], particle['pz']\n",
    "\n",
    "\n",
    "        pt = math.sqrt(px**2 + py**2)\n",
    "\n",
    "\n",
    "        phi = math.atan2(py, px)\n",
    "\n",
    "\n",
    "        theta = math.acos(pz / math.sqrt(px**2 + py**2 + pz**2))\n",
    "        eta = -math.log(math.tan(theta / 2))\n",
    "\n",
    "\n",
    "        kinematic_data.append({\n",
    "            'pt': pt,\n",
    "            'eta': eta,\n",
    "            'phi': phi,\n",
    "        })\n",
    "\n",
    "    return kinematic_data\n",
    "\n",
    "### Importing Data\n",
    "lhe_file = r\"C:\\Users\\gabri\\OneDrive\\Documents\\University\\Mphys\\TriBoson\\Week4\\unweighted_events.lhe\"\n",
    "\n",
    "w_data = extract_particle_data(lhe_file, particle_ids=[24]) #W+\n",
    "w_anti_data = extract_particle_data(lhe_file, particle_ids=[-24]) #W-\n",
    "z_data = extract_particle_data(lhe_file, particle_ids=[23])\n",
    "muon_data = extract_particle_data(lhe_file, particle_ids=[13])\n",
    "muon_anti_data = extract_particle_data(lhe_file, particle_ids=[-13])\n",
    "\n",
    "\n",
    "import numpy as np\n",
    "import vector\n",
    "\n",
    "z_momentum = vector.array({\n",
    "    \"E\": [data[\"E\"] for data in z_data],\n",
    "    \"x\": [data[\"px\"] for data in z_data],\n",
    "    \"y\": [data[\"py\"] for data in z_data],\n",
    "    \"z\": [data[\"pz\"] for data in z_data]\n",
    "})\n",
    "\n",
    "w_momentum = vector.array({\n",
    "    \"E\": [data[\"E\"] for data in w_data],\n",
    "    \"x\": [data[\"px\"] for data in w_data],\n",
    "    \"y\": [data[\"py\"] for data in w_data],\n",
    "    \"z\": [data[\"pz\"] for data in w_data]\n",
    "})\n",
    "\n",
    "w_anti_momentum = vector.array({\n",
    "    \"E\": [data[\"E\"] for data in w_anti_data],\n",
    "    \"x\": [data[\"px\"] for data in w_anti_data],\n",
    "    \"y\": [data[\"py\"] for data in w_anti_data],\n",
    "    \"z\": [data[\"pz\"] for data in w_anti_data]\n",
    "})\n",
    "\n",
    "muon_momentum = vector.array({\n",
    "    \"E\": [data[\"E\"] for data in muon_data],\n",
    "    \"x\": [data[\"px\"] for data in muon_data],\n",
    "    \"y\": [data[\"py\"] for data in muon_data],\n",
    "    \"z\": [data[\"pz\"] for data in muon_data]\n",
    "})\n",
    "\n",
    "muon_anti_momentum = vector.array({\n",
    "    \"E\": [data[\"E\"] for data in muon_anti_data],\n",
    "    \"x\": [data[\"px\"] for data in muon_anti_data],\n",
    "    \"y\": [data[\"py\"] for data in muon_anti_data],\n",
    "    \"z\": [data[\"pz\"] for data in muon_anti_data]\n",
    "})\n"
   ]
  },
  {
   "cell_type": "markdown",
   "metadata": {},
   "source": [
    "Define functions to calculate a unit vector to rotate about using a cross product, calculate the angle of rotation through a dot product and then to do the rotation to align it with the z axis"
   ]
  },
  {
   "cell_type": "code",
   "execution_count": 7,
   "metadata": {},
   "outputs": [],
   "source": [
    "import vector\n",
    "\n",
    "\n",
    "class Vector3D:\n",
    "    def __init__(self, x, y, z):\n",
    "        self.x = x\n",
    "        self.y = y\n",
    "        self.z = z\n",
    "\n",
    "    def magnitude(self):\n",
    "        return np.sqrt(self.x**2 + self.y**2 + self.z**2)\n",
    "\n",
    "    def normalize(self):\n",
    "        mag = self.magnitude()\n",
    "        if mag > 0:\n",
    "            return Vector3D(self.x / mag, self.y / mag, self.z / mag)\n",
    "        else:\n",
    "            return Vector3D(0, 0, 0)  # Or handle the zero vector case appropriately\n",
    "\n",
    "    def __repr__(self):\n",
    "        return f\"Vector3D({self.x}, {self.y}, {self.z})\"\n",
    "\n",
    "    @staticmethod\n",
    "    def from_array(arr):\n",
    "        return Vector3D(arr[0], arr[1], arr[2])\n",
    "\n",
    "# Function to compute cross product and return normalized vectors as Vector3D instances\n",
    "def crossproduct(vectors):\n",
    "    crossproduct_results = []\n",
    "    \n",
    "    for particle in vectors:\n",
    "        # Assuming particle is an object with x, y, z attributes\n",
    "        px, py, pz = particle.x, particle.y, particle.z\n",
    "        \n",
    "        # Define the fixed vector (for example, the Z-axis)\n",
    "        fixed_vector = np.array([0, 0, 1])  # Modify as needed\n",
    "        \n",
    "        # Create the particle vector as a NumPy array\n",
    "        particle_vector = np.array([px, py, pz])\n",
    "        \n",
    "        # Calculate the cross product\n",
    "        cross_product = np.cross(particle_vector, fixed_vector)\n",
    "        \n",
    "        # Normalize the cross product vector\n",
    "        normalized_vector = Vector3D.from_array(cross_product).normalize()\n",
    "        \n",
    "        crossproduct_results.append(normalized_vector)\n",
    "    \n",
    "    return crossproduct_results\n",
    "\n",
    "def dotproduct(vector):\n",
    "    angles=[]\n",
    "    for particle in vector:\n",
    "        z_axis = np.array([0,0,1])\n",
    "        px, py, pz = particle.x, particle.y, particle.z\n",
    "        particle_vector = np.array([px, py, pz])\n",
    "\n",
    "        dot = np.dot(particle_vector, z_axis)\n",
    "        angle = np.arccos(dot/np.sqrt(px**2 + py**2 + pz**2))\n",
    "        angles.append(angle)\n",
    "    return angles\n",
    "\n",
    "def rotation(vectors, unit_vectors, thetas):\n",
    "    rotated_x = []\n",
    "    rotated_y = []\n",
    "    rotated_z = []\n",
    "    rotated_E = []\n",
    "    \n",
    "\n",
    "    for i, (vector_i, unit_vector_i) in enumerate(zip(vectors, unit_vectors)):\n",
    "        # Retrieve theta for the current vector from angles\n",
    "        theta = thetas[i]\n",
    "        \n",
    "        # Calculate the rotated coordinates using the rotation matrices\n",
    "        x_new = (\n",
    "            (np.cos(theta) + (1 - np.cos(theta)) * unit_vector_i.x**2) * vector_i.x \n",
    "            + (unit_vector_i.x * unit_vector_i.y * (1 - np.cos(theta))) * vector_i.y \n",
    "            + unit_vector_i.y * np.sin(theta) * vector_i.z\n",
    "        )\n",
    "        \n",
    "        y_new = (\n",
    "            unit_vector_i.x * unit_vector_i.y * (1 - np.cos(theta)) * vector_i.x\n",
    "            + (np.cos(theta) + (1 - np.cos(theta)) * unit_vector_i.y**2) * vector_i.y\n",
    "            - unit_vector_i.x * np.sin(theta) * vector_i.z\n",
    "        )\n",
    "        \n",
    "        z_new = (\n",
    "            -unit_vector_i.y * np.sin(theta) * vector_i.x\n",
    "            + unit_vector_i.x * np.sin(theta) * vector_i.y \n",
    "            + np.cos(theta) * vector_i.z\n",
    "        )\n",
    "        \n",
    "        # Append rotated coordinates to the output lists\n",
    "        rotated_x.append(x_new)\n",
    "        rotated_y.append(y_new)\n",
    "        rotated_z.append(z_new)\n",
    "        rotated_E.append(vector_i.E)\n",
    "    # Return as a vector array object if supported or convert it to a dictionary structure\n",
    "    return vector.array({\n",
    "        'x': np.array(rotated_x),\n",
    "        'y': np.array(rotated_y),\n",
    "        'z': np.array(rotated_z),\n",
    "        'E': np.array(rotated_E)\n",
    "    })\n"
   ]
  },
  {
   "cell_type": "markdown",
   "metadata": {},
   "source": [
    "COM frame"
   ]
  },
  {
   "cell_type": "code",
   "execution_count": 8,
   "metadata": {},
   "outputs": [],
   "source": [
    "COM_OG = w_momentum + w_anti_momentum + z_momentum\n",
    "\n",
    "COM_unit_vectors = crossproduct(COM_OG)\n",
    "COM_angles = dotproduct(COM_OG)\n",
    "\n",
    "COM_rotated = rotation(COM_OG, COM_unit_vectors, COM_angles)\n",
    "COM_rotated_boost_vector = COM_rotated.to_beta3()\n"
   ]
  },
  {
   "cell_type": "markdown",
   "metadata": {},
   "source": [
    "Move Z and muons to COM frame"
   ]
  },
  {
   "cell_type": "code",
   "execution_count": 9,
   "metadata": {},
   "outputs": [],
   "source": [
    "\n",
    "Z_rotated_lab = rotation(z_momentum, COM_unit_vectors, COM_angles)\n",
    "Z_in_COM_frame = Z_rotated_lab.boost(-COM_rotated_boost_vector)\n",
    "\n",
    "muon_rotated_lab = rotation(muon_momentum, COM_unit_vectors, COM_angles)\n",
    "muon_in_COM_frame = muon_rotated_lab.boost(-COM_rotated_boost_vector)\n",
    "\n"
   ]
  },
  {
   "cell_type": "markdown",
   "metadata": {},
   "source": [
    "Calculate the the Z boost and rotation"
   ]
  },
  {
   "cell_type": "code",
   "execution_count": 10,
   "metadata": {},
   "outputs": [],
   "source": [
    "\n",
    "Z_angles = dotproduct(Z_in_COM_frame)\n",
    "Z_unit_vector = crossproduct(Z_in_COM_frame)\n",
    "Z_rotated_COM_frame = rotation(Z_in_COM_frame, Z_unit_vector, Z_angles)\n",
    "Z_boost_vector = Z_rotated_COM_frame.to_beta3()"
   ]
  },
  {
   "cell_type": "markdown",
   "metadata": {},
   "source": [
    "Get muon into Z frame"
   ]
  },
  {
   "cell_type": "code",
   "execution_count": 11,
   "metadata": {},
   "outputs": [],
   "source": [
    "muons_rotated_in_COM_frame = rotation(muon_in_COM_frame, Z_unit_vector, Z_angles)\n",
    "muons_Z_frame = muons_rotated_in_COM_frame.boost(-Z_boost_vector)"
   ]
  },
  {
   "cell_type": "code",
   "execution_count": null,
   "metadata": {},
   "outputs": [],
   "source": []
  },
  {
   "cell_type": "markdown",
   "metadata": {},
   "source": [
    "Plot Histogram"
   ]
  },
  {
   "cell_type": "code",
   "execution_count": null,
   "metadata": {},
   "outputs": [
    {
     "name": "stdout",
     "output_type": "stream",
     "text": [
      "10000\n"
     ]
    },
    {
     "data": {
      "text/plain": [
       "<function matplotlib.pyplot.show(close=None, block=None)>"
      ]
     },
     "execution_count": 18,
     "metadata": {},
     "output_type": "execute_result"
    },
    {
     "data": {
      "image/png": "[encoded data removed]",
      "text/plain": [
       "<Figure size 640x480 with 1 Axes>"
      ]
     },
     "metadata": {},
     "output_type": "display_data"
    }
   ],
   "source": [
    "theta = np.arctan((np.sqrt(muons_Z_frame.px**2 + muons_Z_frame.py**2))/muons_Z_frame.pz)\n",
    "print(len(theta))\n",
    "plt.hist(theta, bins=100)\n",
    "plt.show"
   ]
  },
  {
   "cell_type": "markdown",
   "metadata": {},
   "source": [
    "Check Rotation"
   ]
  },
  {
   "cell_type": "code",
   "execution_count": 13,
   "metadata": {},
   "outputs": [
    {
     "name": "stdout",
     "output_type": "stream",
     "text": [
      "MomentumObject4D(px=100000.0, py=1000.0, pz=100000.0, E=1000.0)\n",
      "MomentumObject4D(px=1.4551915228366852e-11, py=0.0, pz=141424.89172702236, E=1000.0)\n",
      "0.7854231621475212\n",
      "MomentumObject4D(px=0.0, py=1.0, pz=0.0, E=1.0)\n",
      "MomentumObject4D(px=0.0, py=6.123233995736766e-17, pz=1.0, E=1.0)\n",
      "1.5707963267948966\n",
      "MomentumObject4D(px=1.0, py=1.0, pz=1.0, E=1.0)\n",
      "MomentumObject4D(px=1.1102230246251565e-16, py=1.1102230246251565e-16, pz=1.7320508075688772, E=1.0)\n",
      "0.9553166181245092\n"
     ]
    }
   ],
   "source": [
    "simple_vecs = [\n",
    "    vector.array({'E': [1000], 'x': [100000], 'y': [1000], 'z': [100000]}),  # Along x-axis\n",
    "    vector.array({'E': [1], 'x': [0], 'y': [1], 'z': [0]}),  # Along y-axis\n",
    "    vector.array({'E': [1], 'x': [1], 'y': [1], 'z': [1]}),  # Along z-axis\n",
    "]\n",
    "\n",
    "for vec in simple_vecs:\n",
    "    \n",
    "    angles = dotproduct(vec)\n",
    "    unit = crossproduct(vec)\n",
    "    z_axis = rotation(vec, unit, angles)\n",
    "    print(vec[0])\n",
    "    print(z_axis[0])\n",
    "    print(angles[0])\n"
   ]
  },
  {
   "cell_type": "markdown",
   "metadata": {},
   "source": [
    "Invarient mass calc. function"
   ]
  },
  {
   "cell_type": "code",
   "execution_count": 14,
   "metadata": {},
   "outputs": [],
   "source": [
    "def inv_mass_equation(vector):\n",
    "    \"\"\"Calculate the invariant mass for a given 4D vector.\"\"\"\n",
    "    # Ensure we do not take the square root of a negative number\n",
    "    mass_squared = vector.E**2 - (vector.px**2 + vector.py**2 + vector.pz**2)\n",
    "    return np.sqrt(np.maximum(mass_squared, 0))  # Avoid negative values\n",
    "\n",
    "def inv_mass_function(vectors):\n",
    "    \"\"\"Calculate the invariant mass for an array of 4D vectors.\"\"\"\n",
    "    # Use a list comprehension to calculate the invariant mass for each vector\n",
    "    return np.array([inv_mass_equation(vector) for vector in vectors])\n"
   ]
  },
  {
   "cell_type": "markdown",
   "metadata": {},
   "source": [
    "Invarient mass check function"
   ]
  },
  {
   "cell_type": "code",
   "execution_count": 15,
   "metadata": {},
   "outputs": [],
   "source": [
    "def check_invariant_mass_equal(vectors_set_1, vectors_set_2, tolerance=1.0):\n",
    "    \"\"\"\n",
    "    Check if the invariant mass of two sets of 4D vectors are equal within a specified tolerance.\n",
    "\n",
    "    Parameters:\n",
    "    vectors_set_1 (list of Vector4D): The first set of vectors.\n",
    "    vectors_set_2 (list of Vector4D): The second set of vectors.\n",
    "    tolerance (float): The tolerance level for the invariant mass comparison (default is 1 GeV).\n",
    "\n",
    "    Returns:\n",
    "    bool: True if the invariant masses are equal within the tolerance, False otherwise.\n",
    "    \"\"\"\n",
    "    # Calculate invariant masses for both sets\n",
    "    inv_mass_1 = inv_mass_function(vectors_set_1)\n",
    "    inv_mass_2 = inv_mass_function(vectors_set_2)\n",
    "\n",
    "    # Check if the lengths of the invariant mass arrays are the same\n",
    "    if len(inv_mass_1) != len(inv_mass_2):\n",
    "        raise ValueError(\"The two sets of vectors must have the same length.\")\n",
    "\n",
    "    # Compare invariant masses within the tolerance\n",
    "    for mass_1, mass_2 in zip(inv_mass_1, inv_mass_2):\n",
    "        if not np.isclose(mass_1, mass_2, atol=tolerance):\n",
    "            return False  # If any pair of invariant masses are not close enough, return False\n",
    "\n",
    "    return True  # All invariant masses are equal within the tolerance\n"
   ]
  },
  {
   "cell_type": "markdown",
   "metadata": {},
   "source": [
    "Check inv mass"
   ]
  },
  {
   "cell_type": "code",
   "execution_count": 16,
   "metadata": {},
   "outputs": [
    {
     "name": "stdout",
     "output_type": "stream",
     "text": [
      "Invariant masses of Z before and after transformations are equal within tolerance: True\n",
      "Invariant masses of muon before and after transformations are equal within tolerance: True\n",
      "Invariant masses of muon before and after transformations are equal within tolerance: True\n"
     ]
    }
   ],
   "source": [
    "result = check_invariant_mass_equal(z_momentum, Z_rotated_COM_frame.boost(-Z_boost_vector), tolerance=1)\n",
    "\n",
    "# Print the result\n",
    "print(\"Invariant masses of Z before and after transformations are equal within tolerance:\", result)\n",
    "\n",
    "muon_check = check_invariant_mass_equal(muon_momentum, muons_Z_frame, tolerance=1)\n",
    "\n",
    "# Print the result\n",
    "print(\"Invariant masses of muon before and after transformations are equal within tolerance:\", muon_check)\n",
    "\n",
    "com_check = check_invariant_mass_equal(COM_OG, COM_rotated, tolerance=1)\n",
    "\n",
    "# Print the result\n",
    "print(\"Invariant masses of muon before and after transformations are equal within tolerance:\", com_check)"
   ]
  },
  {
   "cell_type": "markdown",
   "metadata": {},
   "source": [
    "Check Z boost and momentum"
   ]
  },
  {
   "cell_type": "code",
   "execution_count": 17,
   "metadata": {},
   "outputs": [
    {
     "ename": "NameError",
     "evalue": "name 'Z_rotated_COM_frame_fourvec' is not defined",
     "output_type": "error",
     "traceback": [
      "\u001b[1;31m---------------------------------------------------------------------------\u001b[0m",
      "\u001b[1;31mNameError\u001b[0m                                 Traceback (most recent call last)",
      "Cell \u001b[1;32mIn[17], line 1\u001b[0m\n\u001b[1;32m----> 1\u001b[0m Z_check \u001b[38;5;241m=\u001b[39m \u001b[43mZ_rotated_COM_frame_fourvec\u001b[49m\u001b[38;5;241m.\u001b[39mboost(\u001b[38;5;241m-\u001b[39mZ_boost_vector)\n\u001b[0;32m      2\u001b[0m \u001b[38;5;28mprint\u001b[39m(z_momentum)\n\u001b[0;32m      3\u001b[0m \u001b[38;5;28mprint\u001b[39m(Z_check)\n",
      "\u001b[1;31mNameError\u001b[0m: name 'Z_rotated_COM_frame_fourvec' is not defined"
     ]
    }
   ],
   "source": [
    "Z_check = Z_rotated_COM_frame_fourvec.boost(-Z_boost_vector)\n",
    "print(z_momentum)\n",
    "print(Z_check)\n",
    "\n",
    "result = check_invariant_mass_equal(z_momentum, Z_rotated_COM_frame_fourvec, tolerance=10)\n",
    "\n",
    "# Print the result\n",
    "print(\"Invariant masses of Z before and after transformations are equal within tolerance:\", result)\n",
    "\n",
    "\n"
   ]
  },
  {
   "cell_type": "markdown",
   "metadata": {},
   "source": [
    "Check muon and antimuon momentums add to Zero"
   ]
  },
  {
   "cell_type": "code",
   "execution_count": 54,
   "metadata": {},
   "outputs": [
    {
     "name": "stdout",
     "output_type": "stream",
     "text": [
      "[( 1.15019105e-13,  6.67910172e-13, -3.33102435e-11,  90.31943382)\n",
      " (-8.23385804e-10, -6.31459329e-10,  1.18980381e-10,  89.31701382)\n",
      " ( 2.55069832e-09, -2.40097364e-09,  1.12115856e-07,  90.25517658) ...\n",
      " ( 1.54348454e-08,  9.56930890e-09, -1.19452039e-08,  91.1051417 )\n",
      " (-7.64657671e-10,  2.19479546e-10, -7.44074669e-09, 101.62198011)\n",
      " (-1.41832146e-09,  3.21931637e-09, -3.61496433e-09,  90.0558742 )]\n"
     ]
    }
   ],
   "source": [
    "Anti_muon_rotated_lab_frame = rotation(muon_anti_momentum, COM_unit_vectors, COM_angles)\n",
    "Anti_muon__COM_frame = Anti_muon_rotated_lab_frame.boost(-COM_rotated_boost_vector)\n",
    "Anti_muon_rotated_COM_frame = rotation(Anti_muon__COM_frame,Z_unit_vector, Z_angles)\n",
    "Anti_muon_Z_frame = Anti_muon_rotated_COM_frame.boost(-Z_boost_vector)\n",
    "\n",
    "check = Anti_muon_Z_frame + muons_Z_frame\n",
    "print(check)"
   ]
  }
 ],
 "metadata": {
  "kernelspec": {
   "display_name": "Mphys",
   "language": "python",
   "name": "python3"
  },
  "language_info": {
   "codemirror_mode": {
    "name": "ipython",
    "version": 3
   },
   "file_extension": ".py",
   "mimetype": "text/x-python",
   "name": "python",
   "nbconvert_exporter": "python",
   "pygments_lexer": "ipython3",
   "version": "3.8.20"
  }
 },
 "nbformat": 4,
 "nbformat_minor": 2
}
